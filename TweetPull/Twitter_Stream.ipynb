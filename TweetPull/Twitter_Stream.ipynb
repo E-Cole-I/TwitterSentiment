{
 "cells": [
  {
   "cell_type": "markdown",
   "metadata": {},
   "source": [
    "## Twitter"
   ]
  },
  {
   "cell_type": "markdown",
   "metadata": {},
   "source": [
    "### Twitter Authentication Information"
   ]
  },
  {
   "cell_type": "code",
   "execution_count": 1,
   "metadata": {},
   "outputs": [],
   "source": [
    "# This line allows us to access the TwitterAPI library\n",
    "from TwitterAPI import TwitterAPI\n",
    "import pprint\n",
    "import psycopg2\n",
    "import time\n",
    "import sys\n",
    "import jsonconfig as jsc"
   ]
  },
  {
   "cell_type": "code",
   "execution_count": 2,
   "metadata": {},
   "outputs": [
    {
     "name": "stdout",
     "output_type": "stream",
     "text": [
      "Consumer and access keys and secrets have been successfully added\n"
     ]
    }
   ],
   "source": [
    "# Import credentials from config file\n",
    "twitter_cred = jsc.json_config('config/twitter_config.json')\n",
    "\n",
    "# Consumer key and secret key\n",
    "consumer_key = twitter_cred['twitter']['consumerAPIKey']\n",
    "consumer_secret = twitter_cred['twitter']['consumerSecretKey']\n",
    "\n",
    "# Access key and secret key\n",
    "access_token_key = twitter_cred['twitter']['accessToken']\n",
    "access_token_secret = twitter_cred['twitter']['accessTokenSecret']\n",
    "\n",
    "# Test Connection\n",
    "try:\n",
    "    api = TwitterAPI(consumer_key, consumer_secret, access_token_key, access_token_secret,)\n",
    "    print(\"Consumer and access keys and secrets have been successfully added\")\n",
    "except:\n",
    "    print(\"Something went wrong with adding the credentials\")"
   ]
  },
  {
   "cell_type": "markdown",
   "metadata": {},
   "source": [
    "### Connect and Create a Cursor for a Postgres Database"
   ]
  },
  {
   "cell_type": "markdown",
   "metadata": {},
   "source": [
    "Instead of writing the data collected from Twitter to a csv file, I chose to write the streamed data to a postgres database using the psycopg2 module in Python. This way I do not have to worry about any cocurrency issues when I query data from the database if data is still being writing to it. This also allows multiple users/scripts to write to the database which could be useful with multiple people working on the same project. The database is locally hosted (At the moment), so passwords and other information are close to default. If the database was hosted somewhere, I would explore the security measures that need to be in place. "
   ]
  },
  {
   "cell_type": "code",
   "execution_count": 3,
   "metadata": {},
   "outputs": [
    {
     "name": "stdout",
     "output_type": "stream",
     "text": [
      "{'user': 'cdog', 'dbname': 'twitter', 'host': '127.0.0.1', 'port': '5432', 'tty': '', 'options': '', 'sslmode': 'prefer', 'sslcompression': '0', 'krbsrvname': 'postgres', 'target_session_attrs': 'any'} \n",
      "\n"
     ]
    }
   ],
   "source": [
    "# A database needs to be created already and user/password should be configured as well\n",
    "\n",
    "# Import credentials from config file\n",
    "psql_cred = jsc.json_config('config/psql_config.json')\n",
    "dbname = psql_cred['psql']['dbname']\n",
    "host = psql_cred['psql']['host']\n",
    "port = psql_cred['psql']['port']\n",
    "user = psql_cred['psql']['user']\n",
    "password = psql_cred['psql']['password']\n",
    "\n",
    "# Set up database connection\n",
    "psql_connection = psycopg2.connect(dbname=dbname,\n",
    "                   host= host,\n",
    "                   port=port, \n",
    "                   user=user, \n",
    "                   password=password)\n",
    "\n",
    "\n",
    "# Needed for connection\n",
    "cursor = psql_connection.cursor()\n",
    "\n",
    "# Print PostgreSQL Connection properties\n",
    "print (psql_connection.get_dsn_parameters(),\"\\n\")"
   ]
  },
  {
   "cell_type": "markdown",
   "metadata": {},
   "source": [
    "## Create a table in the database"
   ]
  },
  {
   "cell_type": "markdown",
   "metadata": {},
   "source": [
    "A database called twitter was created through PgAdmin, but I wanted to practice creating tables with desired schemas in Python. At this point, I just assigned a Primary Key which will correspond to a counter variable running the stream for tweets. Right now, I'm not sure if this is the best way to go about this, especially if I were to index it. A clustered index around hashtags may prove to be better for my goal. At the moment, I'm just worried about getting going with Postgres & Python. I may make alterations down the line to optimize the retrieval of information. "
   ]
  },
  {
   "cell_type": "markdown",
   "metadata": {},
   "source": [
    "### Schema Creation"
   ]
  },
  {
   "cell_type": "code",
   "execution_count": null,
   "metadata": {},
   "outputs": [],
   "source": [
    "\n",
    "# Schema for Postgres Table Information Collection\n",
    "Table = \"\"\"CREATE TABLE twitter_t\n",
    "                (TID TEXT, \n",
    "                DATE_CREATED TEXT,\n",
    "                TIMEZONE TEXT,\n",
    "                NAME TEXT,\n",
    "                USERDESC TEXT,\n",
    "                RETWEET BOOLEAN,\n",
    "                FULL_TEXT TEXT[],\n",
    "                HASHTAG TEXT[],\n",
    "                COORDINATE TEXT,\n",
    "                GEO TEXT,\n",
    "                PLACE TEXT,\n",
    "                LOCATION TEXT,\n",
    "                FAV_COUNT INT,\n",
    "                QUOTE_COUNT INT,\n",
    "                REPLY_COUNT INT,\n",
    "                RETWEET_COUNT INT,\n",
    "                STATUS_COUNT INT,\n",
    "                SCREEN_NAME TEXT,\n",
    "                FRIENDS_COUNT INT,\n",
    "                LANG TEXT,\n",
    "                FILTERLEVEL TEXT,\n",
    "                SOURCE TEXT,\n",
    "                SENSITIVE TEXT);\"\"\"\n",
    "\n",
    "\n",
    "\n",
    "# Execute CREATE TABLE command\n",
    "cursor.execute(Table)\n",
    "\n",
    "# Commit the action to the database\n",
    "psql_connection.commit()\n",
    "\n",
    "# # Close the cursor\n",
    "# psql_connection.close()\n",
    "print(\"Table created successfully in PostgreSQL \")"
   ]
  },
  {
   "cell_type": "markdown",
   "metadata": {},
   "source": [
    "## Twitter Script"
   ]
  },
  {
   "cell_type": "markdown",
   "metadata": {},
   "source": [
    "This is the script I use to gather Twitter data and write it out to a record in my database. "
   ]
  },
  {
   "cell_type": "code",
   "execution_count": null,
   "metadata": {
    "scrolled": false
   },
   "outputs": [
    {
     "name": "stdout",
     "output_type": "stream",
     "text": [
      "Starting TwitterAPI\n",
      "Setting up filter request\n",
      "Begin capturing tweets\n"
     ]
    },
    {
     "name": "stderr",
     "output_type": "stream",
     "text": [
      "WARNING:root:<class 'str'> Twitter stream stalled\n"
     ]
    },
    {
     "name": "stdout",
     "output_type": "stream",
     "text": [
      "Could capture tweet... \n",
      "ERROR: <class 'TwitterAPI.TwitterError.TwitterConnectionError'>\n",
      "Setting up filter request\n",
      "Begin capturing tweets\n"
     ]
    },
    {
     "name": "stderr",
     "output_type": "stream",
     "text": [
      "WARNING:root:<class 'str'> Twitter stream stalled\n"
     ]
    },
    {
     "name": "stdout",
     "output_type": "stream",
     "text": [
      "Could capture tweet... \n",
      "ERROR: <class 'TwitterAPI.TwitterError.TwitterConnectionError'>\n",
      "Setting up filter request\n",
      "Begin capturing tweets\n"
     ]
    }
   ],
   "source": [
    "psql_cred = jsc.json_config('config/psql_config.json')\n",
    "dbname = psql_cred['psql']['dbname']\n",
    "host = psql_cred['psql']['host']\n",
    "port = psql_cred['psql']['port']\n",
    "user = psql_cred['psql']['user']\n",
    "password = psql_cred['psql']['password']\n",
    "\n",
    "# Set up database connection\n",
    "psql_connection = psycopg2.connect(dbname=dbname,\n",
    "                   host= host,\n",
    "                   port=port, \n",
    "                   user=user, \n",
    "                   password=password)\n",
    "\n",
    "# Needed for connection\n",
    "cursor = psql_connection.cursor()\n",
    "\n",
    "\n",
    "print(\"Starting TwitterAPI\")\n",
    "api = TwitterAPI(consumer_key, consumer_secret, access_token_key, access_token_secret,)\n",
    "\n",
    "# Look for keywords in tweets\n",
    "keywords = \"Warneford Hospital, warneford hospital, warnefordhospital, #warnefordhospital, john radcliffe hospital, John Radcliffe Hospital, #johnradcliffehospital\"\n",
    "\n",
    "while True:\n",
    "    try:\n",
    "        print(\"Setting up filter request\")\n",
    "        # We can add keyword filters (called 'track' term in Twitter)\n",
    "        r = api.request('statuses/filter', {'track': keywords})\n",
    "        \n",
    "\n",
    "\n",
    "        print(\"Begin capturing tweets\")\n",
    "        for tweet in r:\n",
    "     \n",
    "            # Find hashtags\n",
    "            hashtags = [i['text'] + \" \"  for i in tweet['entities']['hashtags']]\n",
    "\n",
    "            # Filtering steps\n",
    "            if tweet[\"retweeted\"] == True:\n",
    "                print(\"TRUE\")\n",
    "\n",
    "            # Retrieves the long description if there is one\n",
    "            if 'extended_tweet' in tweet:\n",
    "\n",
    "                text = tweet['extended_tweet']['full_text']\n",
    "\n",
    "            else:\n",
    "                text = tweet['text']\n",
    "\n",
    "            # Formats coordinates if there are any\n",
    "            if 'coordinates' in tweet and tweet['coordinates'] != None:\n",
    "                coords = str(str((tweet['coordinates'][\"coordinates\"][0]),str(tweet['coordinates'][\"coordinates\"][1]))) # Add the tweet coordinates to the list\n",
    "                print(tweet['coordinates'])\n",
    "            else:\n",
    "                coords = tweet['coordinates']# If the tweet does not have coordinates then skip it\n",
    "\n",
    "            # Formats the place name if there is a long or short one\n",
    "            if tweet['place'] != None:\n",
    "                place = str(tweet['place'][\"full_name\"]) # Add the tweet coordinates to the list\n",
    "\n",
    "            else:\n",
    "                place = tweet['place'] \n",
    "\n",
    "            retweeted = 'false'\n",
    "\n",
    "            if text[:2] == 'RT':\n",
    "                retweeted = 'true'\n",
    "                text = text[2:]\n",
    "\n",
    "\n",
    "\n",
    "\n",
    "            # To be included in the database\n",
    "            tid = str(tweet['id'])\n",
    "            date_created = tweet['created_at']\n",
    "            timezone = tweet['user']['time_zone']\n",
    "            user = tweet['user']['name']\n",
    "            userdesc = tweet['user']['description']\n",
    "            retweeted = retweeted\n",
    "            full_text = [text]\n",
    "            hashtags = hashtags\n",
    "            coords = coords\n",
    "            geo = tweet['geo']\n",
    "            place = place\n",
    "            fav_count = tweet['favorite_count']\n",
    "            qoute_count = tweet['quote_count']\n",
    "            reply_count = tweet['reply_count']\n",
    "            retweet = tweet['retweet_count']\n",
    "            status = tweet['user']['statuses_count']\n",
    "            location = tweet['user']['location']\n",
    "            screen_name = [tweet['user']['screen_name']]\n",
    "            friends_count = tweet['user']['friends_count']\n",
    "            lang = tweet['lang']\n",
    "            filter_level = tweet['filter_level']\n",
    "            source = tweet['source'].split('<')[-2].split('>')[-1]\n",
    "\n",
    "            try:\n",
    "                sensitive = tweet['possibly_sensitive']\n",
    "            except:\n",
    "                sensitive = 'None'\n",
    "\n",
    "\n",
    "            # Execute query with insert statement of tweets\n",
    "            cursor.execute(\"\"\" INSERT INTO twitter_t (TID, DATE_CREATED, TIMEZONE, NAME, USERDESC, RETWEET, FULL_TEXT, HASHTAG,COORDINATE,GEO,PLACE,\n",
    "                                                             LOCATION, FAV_COUNT,QUOTE_COUNT,REPLY_COUNT,RETWEET_COUNT,STATUS_COUNT,\n",
    "                                                             SCREEN_NAME,FRIENDS_COUNT, LANG, FILTERLEVEL, SOURCE, SENSITIVE) VALUES (%s, %s, %s, %s, %s,\n",
    "                                                             %s, %s, %s, %s, %s, %s, %s, %s, %s, %s, %s, %s, %s, %s, %s, %s, %s, %s)\"\"\" , (tid, date_created, timezone, user, userdesc, retweeted, full_text, hashtags, coords, geo, place, \n",
    "                                                                                                         location, fav_count, qoute_count, reply_count, retweet, status, screen_name,\n",
    "                                                                                                         friends_count, lang, filter_level, source, sensitive))\n",
    "            # Commit database entry\n",
    "            psql_connection.commit()\n",
    "\n",
    "    \n",
    "    except:\n",
    "        print(\"Could capture tweet... \\nERROR:\", sys.exc_info()[0])\n",
    "        pass\n",
    "    \n",
    "    time.sleep(15)\n",
    "\n",
    "print(\"Done\")\n",
    "\n",
    "\n"
   ]
  },
  {
   "cell_type": "code",
   "execution_count": null,
   "metadata": {},
   "outputs": [],
   "source": []
  }
 ],
 "metadata": {
  "kernelspec": {
   "display_name": "Python 3",
   "language": "python",
   "name": "python3"
  },
  "language_info": {
   "codemirror_mode": {
    "name": "ipython",
    "version": 3
   },
   "file_extension": ".py",
   "mimetype": "text/x-python",
   "name": "python",
   "nbconvert_exporter": "python",
   "pygments_lexer": "ipython3",
   "version": "3.7.4"
  }
 },
 "nbformat": 4,
 "nbformat_minor": 2
}
