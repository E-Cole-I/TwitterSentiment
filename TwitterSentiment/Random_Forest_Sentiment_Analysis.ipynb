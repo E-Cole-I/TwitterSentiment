{
 "cells": [
  {
   "cell_type": "markdown",
   "metadata": {},
   "source": [
    "## Random Forest Tweet Sentiment Prediction"
   ]
  },
  {
   "cell_type": "markdown",
   "metadata": {},
   "source": [
    "#### Import Modules"
   ]
  },
  {
   "cell_type": "code",
   "execution_count": 1,
   "metadata": {},
   "outputs": [
    {
     "name": "stderr",
     "output_type": "stream",
     "text": [
      "[nltk_data] Downloading package stopwords to\n",
      "[nltk_data]     C:\\Users\\shepa135\\AppData\\Roaming\\nltk_data...\n",
      "[nltk_data]   Package stopwords is already up-to-date!\n"
     ]
    }
   ],
   "source": [
    "import psycopg2\n",
    "import pandas as pd\n",
    "import numpy as np\n",
    "import seaborn as sns\n",
    "import pandas as pd \n",
    "import re  \n",
    "import nltk \n",
    "nltk.download('stopwords')  \n",
    "from nltk.corpus import stopwords \n",
    "import jsonconfig as jsc"
   ]
  },
  {
   "cell_type": "markdown",
   "metadata": {},
   "source": [
    "#### Set up database with credentials"
   ]
  },
  {
   "cell_type": "code",
   "execution_count": 2,
   "metadata": {},
   "outputs": [
    {
     "name": "stdout",
     "output_type": "stream",
     "text": [
      "{'user': 'cdog', 'dbname': 'twitter', 'host': '127.0.0.1', 'port': '5432', 'tty': '', 'options': '', 'sslmode': 'prefer', 'sslcompression': '0', 'krbsrvname': 'postgres', 'target_session_attrs': 'any'} \n",
      "\n"
     ]
    }
   ],
   "source": [
    "# A database needs to be created already and user/password should be configured as well\n",
    "\n",
    "# Import credentials from config file\n",
    "psql_cred = jsc.json_config('config/psql_config.json')\n",
    "dbname = psql_cred['psql']['dbname']\n",
    "host = psql_cred['psql']['host']\n",
    "port = psql_cred['psql']['port']\n",
    "user = psql_cred['psql']['user']\n",
    "password = psql_cred['psql']['password']\n",
    "\n",
    "# Set up database connection\n",
    "psql_connection = psycopg2.connect(dbname=dbname,\n",
    "                   host= host,\n",
    "                   port=port, \n",
    "                   user=user, \n",
    "                   password=password)\n",
    "\n",
    "\n",
    "# Needed for connection\n",
    "cursor = psql_connection.cursor()\n",
    "\n",
    "# Print PostgreSQL Connection properties\n",
    "print (psql_connection.get_dsn_parameters(),\"\\n\")"
   ]
  },
  {
   "cell_type": "markdown",
   "metadata": {},
   "source": [
    "#### Fetch the Twitter Data Collected from the Twitter Stream Script"
   ]
  },
  {
   "cell_type": "code",
   "execution_count": 3,
   "metadata": {},
   "outputs": [],
   "source": [
    "query = \"\"\"\n",
    "        SELECT * from twitter;\n",
    "\n",
    "        \"\"\"\n",
    "\n",
    "cursor.execute(query)\n",
    "\n",
    "# Fetch all records - different than inserting/creating because we want to get at the selection in python\n",
    "data = cursor.fetchall()"
   ]
  },
  {
   "cell_type": "markdown",
   "metadata": {},
   "source": [
    "#### Load in as a dataframe and reassign column names"
   ]
  },
  {
   "cell_type": "code",
   "execution_count": 4,
   "metadata": {},
   "outputs": [
    {
     "data": {
      "text/html": [
       "<div>\n",
       "<style scoped>\n",
       "    .dataframe tbody tr th:only-of-type {\n",
       "        vertical-align: middle;\n",
       "    }\n",
       "\n",
       "    .dataframe tbody tr th {\n",
       "        vertical-align: top;\n",
       "    }\n",
       "\n",
       "    .dataframe thead th {\n",
       "        text-align: right;\n",
       "    }\n",
       "</style>\n",
       "<table border=\"1\" class=\"dataframe\">\n",
       "  <thead>\n",
       "    <tr style=\"text-align: right;\">\n",
       "      <th></th>\n",
       "      <th>tid</th>\n",
       "      <th>date</th>\n",
       "      <th>timezone</th>\n",
       "      <th>name</th>\n",
       "      <th>userdesc</th>\n",
       "      <th>retweet</th>\n",
       "      <th>full_text</th>\n",
       "      <th>hashtag</th>\n",
       "      <th>coordinate</th>\n",
       "      <th>geo</th>\n",
       "      <th>...</th>\n",
       "      <th>quote_count</th>\n",
       "      <th>reply_count</th>\n",
       "      <th>retweet_count</th>\n",
       "      <th>status_count</th>\n",
       "      <th>screen_name</th>\n",
       "      <th>friends_count</th>\n",
       "      <th>lang</th>\n",
       "      <th>filterlevel</th>\n",
       "      <th>source</th>\n",
       "      <th>sensitive</th>\n",
       "    </tr>\n",
       "  </thead>\n",
       "  <tbody>\n",
       "    <tr>\n",
       "      <td>0</td>\n",
       "      <td>1248315976925491200</td>\n",
       "      <td>Thu Apr 09 18:24:56 +0000 2020</td>\n",
       "      <td>None</td>\n",
       "      <td>Kim Wood</td>\n",
       "      <td>Wife, Mummy &amp; Nurse on a break to raise my 3 g...</td>\n",
       "      <td>True</td>\n",
       "      <td>[ @WYHpartnership: Good morning and thank you ...</td>\n",
       "      <td>[]</td>\n",
       "      <td>None</td>\n",
       "      <td>None</td>\n",
       "      <td>...</td>\n",
       "      <td>0</td>\n",
       "      <td>0</td>\n",
       "      <td>0</td>\n",
       "      <td>24333</td>\n",
       "      <td>{Woodster44}</td>\n",
       "      <td>1504</td>\n",
       "      <td>en</td>\n",
       "      <td>low</td>\n",
       "      <td>Twitter for iPhone</td>\n",
       "      <td>None</td>\n",
       "    </tr>\n",
       "    <tr>\n",
       "      <td>1</td>\n",
       "      <td>1248315978007687168</td>\n",
       "      <td>Thu Apr 09 18:24:56 +0000 2020</td>\n",
       "      <td>None</td>\n",
       "      <td>❕</td>\n",
       "      <td>hell bound but heaven sent</td>\n",
       "      <td>True</td>\n",
       "      <td>[ @SimonPeach: #MUFC have announced a package ...</td>\n",
       "      <td>[MUFC ]</td>\n",
       "      <td>None</td>\n",
       "      <td>None</td>\n",
       "      <td>...</td>\n",
       "      <td>0</td>\n",
       "      <td>0</td>\n",
       "      <td>0</td>\n",
       "      <td>9478</td>\n",
       "      <td>{Jordun_}</td>\n",
       "      <td>131</td>\n",
       "      <td>en</td>\n",
       "      <td>low</td>\n",
       "      <td>Twitter for iPhone</td>\n",
       "      <td>false</td>\n",
       "    </tr>\n",
       "    <tr>\n",
       "      <td>2</td>\n",
       "      <td>1248315978167005185</td>\n",
       "      <td>Thu Apr 09 18:24:56 +0000 2020</td>\n",
       "      <td>None</td>\n",
       "      <td>steve brown</td>\n",
       "      <td>None</td>\n",
       "      <td>False</td>\n",
       "      <td>[Another tragic death. My condolences to the f...</td>\n",
       "      <td>[]</td>\n",
       "      <td>None</td>\n",
       "      <td>None</td>\n",
       "      <td>...</td>\n",
       "      <td>0</td>\n",
       "      <td>0</td>\n",
       "      <td>0</td>\n",
       "      <td>5551</td>\n",
       "      <td>{stevebr98325879}</td>\n",
       "      <td>332</td>\n",
       "      <td>en</td>\n",
       "      <td>low</td>\n",
       "      <td>Twitter Web App</td>\n",
       "      <td>None</td>\n",
       "    </tr>\n",
       "    <tr>\n",
       "      <td>3</td>\n",
       "      <td>1248315978896867330</td>\n",
       "      <td>Thu Apr 09 18:24:56 +0000 2020</td>\n",
       "      <td>None</td>\n",
       "      <td>Anas Saadallah - أنس ✊✊✊</td>\n",
       "      <td>Belgo-Tunisien - Wikipédien - #新浪微博: http://t....</td>\n",
       "      <td>False</td>\n",
       "      <td>[Coronavirus (COVID-19) - NHS - NHS https://t....</td>\n",
       "      <td>[]</td>\n",
       "      <td>None</td>\n",
       "      <td>None</td>\n",
       "      <td>...</td>\n",
       "      <td>0</td>\n",
       "      <td>0</td>\n",
       "      <td>0</td>\n",
       "      <td>102238</td>\n",
       "      <td>{anassaadallah}</td>\n",
       "      <td>3744</td>\n",
       "      <td>en</td>\n",
       "      <td>low</td>\n",
       "      <td>iOS</td>\n",
       "      <td>false</td>\n",
       "    </tr>\n",
       "    <tr>\n",
       "      <td>4</td>\n",
       "      <td>1248315979555356673</td>\n",
       "      <td>Thu Apr 09 18:24:56 +0000 2020</td>\n",
       "      <td>None</td>\n",
       "      <td>Andrew McCullough</td>\n",
       "      <td>All my views are my own. Retweets are not endo...</td>\n",
       "      <td>True</td>\n",
       "      <td>[ @DrMamnunKhan: Please NHS workers sign up fo...</td>\n",
       "      <td>[]</td>\n",
       "      <td>None</td>\n",
       "      <td>None</td>\n",
       "      <td>...</td>\n",
       "      <td>0</td>\n",
       "      <td>0</td>\n",
       "      <td>0</td>\n",
       "      <td>32420</td>\n",
       "      <td>{AndrewMuckaluck}</td>\n",
       "      <td>2062</td>\n",
       "      <td>en</td>\n",
       "      <td>low</td>\n",
       "      <td>Twitter for iPhone</td>\n",
       "      <td>None</td>\n",
       "    </tr>\n",
       "  </tbody>\n",
       "</table>\n",
       "<p>5 rows × 23 columns</p>\n",
       "</div>"
      ],
      "text/plain": [
       "                   tid                            date timezone  \\\n",
       "0  1248315976925491200  Thu Apr 09 18:24:56 +0000 2020     None   \n",
       "1  1248315978007687168  Thu Apr 09 18:24:56 +0000 2020     None   \n",
       "2  1248315978167005185  Thu Apr 09 18:24:56 +0000 2020     None   \n",
       "3  1248315978896867330  Thu Apr 09 18:24:56 +0000 2020     None   \n",
       "4  1248315979555356673  Thu Apr 09 18:24:56 +0000 2020     None   \n",
       "\n",
       "                       name  \\\n",
       "0                  Kim Wood   \n",
       "1                         ❕   \n",
       "2               steve brown   \n",
       "3  Anas Saadallah - أنس ✊✊✊   \n",
       "4         Andrew McCullough   \n",
       "\n",
       "                                            userdesc  retweet  \\\n",
       "0  Wife, Mummy & Nurse on a break to raise my 3 g...     True   \n",
       "1                         hell bound but heaven sent     True   \n",
       "2                                               None    False   \n",
       "3  Belgo-Tunisien - Wikipédien - #新浪微博: http://t....    False   \n",
       "4  All my views are my own. Retweets are not endo...     True   \n",
       "\n",
       "                                           full_text  hashtag coordinate  \\\n",
       "0  [ @WYHpartnership: Good morning and thank you ...       []       None   \n",
       "1  [ @SimonPeach: #MUFC have announced a package ...  [MUFC ]       None   \n",
       "2  [Another tragic death. My condolences to the f...       []       None   \n",
       "3  [Coronavirus (COVID-19) - NHS - NHS https://t....       []       None   \n",
       "4  [ @DrMamnunKhan: Please NHS workers sign up fo...       []       None   \n",
       "\n",
       "    geo  ... quote_count reply_count  retweet_count  status_count  \\\n",
       "0  None  ...           0           0              0         24333   \n",
       "1  None  ...           0           0              0          9478   \n",
       "2  None  ...           0           0              0          5551   \n",
       "3  None  ...           0           0              0        102238   \n",
       "4  None  ...           0           0              0         32420   \n",
       "\n",
       "         screen_name  friends_count  lang filterlevel              source  \\\n",
       "0       {Woodster44}           1504    en         low  Twitter for iPhone   \n",
       "1          {Jordun_}            131    en         low  Twitter for iPhone   \n",
       "2  {stevebr98325879}            332    en         low     Twitter Web App   \n",
       "3    {anassaadallah}           3744    en         low                 iOS   \n",
       "4  {AndrewMuckaluck}           2062    en         low  Twitter for iPhone   \n",
       "\n",
       "  sensitive  \n",
       "0      None  \n",
       "1     false  \n",
       "2      None  \n",
       "3     false  \n",
       "4      None  \n",
       "\n",
       "[5 rows x 23 columns]"
      ]
     },
     "execution_count": 4,
     "metadata": {},
     "output_type": "execute_result"
    }
   ],
   "source": [
    "tdf = pd.DataFrame(data)\n",
    "tdf.columns = ['tid', 'date', 'timezone', 'name', 'userdesc', \n",
    "               'retweet','full_text', 'hashtag', 'coordinate',\n",
    "              'geo', 'place', 'location', 'fav_count', 'quote_count',\n",
    "              'reply_count', 'retweet_count', 'status_count', 'screen_name',\n",
    "              'friends_count', 'lang', 'filterlevel', 'source', 'sensitive']\n",
    "tdf.head()"
   ]
  },
  {
   "cell_type": "markdown",
   "metadata": {},
   "source": [
    "#### Example of a plot for Sentiment Around Tweets"
   ]
  },
  {
   "cell_type": "code",
   "execution_count": 5,
   "metadata": {},
   "outputs": [
    {
     "data": {
      "text/plain": [
       "<matplotlib.axes._subplots.AxesSubplot at 0x23a23d9f208>"
      ]
     },
     "execution_count": 5,
     "metadata": {},
     "output_type": "execute_result"
    },
    {
     "data": {
      "image/png": "[encoded data removed]",
      "text/plain": [
       "<Figure size 432x288 with 1 Axes>"
      ]
     },
     "metadata": {
      "needs_background": "light"
     },
     "output_type": "display_data"
    }
   ],
   "source": [
    "# Plotting example with seaborn\n",
    "sns.countplot(x='sensitive', data=tdf)"
   ]
  },
  {
   "cell_type": "markdown",
   "metadata": {},
   "source": [
    "#### Isolate the text values and remove everything except the text"
   ]
  },
  {
   "cell_type": "code",
   "execution_count": 6,
   "metadata": {},
   "outputs": [],
   "source": [
    "# Values to predict (We have to build a training model before creating sentiments for these)\n",
    "to_pred = tdf['full_text'].values\n",
    "\n",
    "# Remove special characters fromt the tweets and add them to the list\n",
    "processed_tweets = []\n",
    "\n",
    "for tweet in range(0, len(to_pred)):  \n",
    "    # Remove all the special characters\n",
    "    processed_tweet = re.sub(r'\\W', ' ', str(to_pred[tweet][0]))\n",
    "\n",
    "    # remove all single characters\n",
    "    processed_tweet = re.sub(r'\\s+[a-zA-Z]\\s+', ' ', processed_tweet)\n",
    "\n",
    "    # Remove single characters from the start\n",
    "    processed_tweet = re.sub(r'\\^[a-zA-Z]\\s+', ' ', processed_tweet) \n",
    "\n",
    "    # Substituting multiple spaces with single space\n",
    "    processed_tweet= re.sub(r'\\s+', ' ', processed_tweet, flags=re.I)\n",
    "\n",
    "    # Removing prefixed 'b'\n",
    "    processed_tweet = re.sub(r'^b\\s+', '', processed_tweet)\n",
    "\n",
    "    # Converting to Lowercase\n",
    "    processed_tweet = processed_tweet.lower()\n",
    "\n",
    "    processed_tweets.append(processed_tweet)"
   ]
  },
  {
   "cell_type": "markdown",
   "metadata": {},
   "source": [
    "#### Load in the Twitter training dataset and make minor adjsutments"
   ]
  },
  {
   "cell_type": "code",
   "execution_count": 7,
   "metadata": {},
   "outputs": [
    {
     "name": "stdout",
     "output_type": "stream",
     "text": [
      "Tweet Table Shape (479998, 6)\n"
     ]
    },
    {
     "data": {
      "text/html": [
       "<div>\n",
       "<style scoped>\n",
       "    .dataframe tbody tr th:only-of-type {\n",
       "        vertical-align: middle;\n",
       "    }\n",
       "\n",
       "    .dataframe tbody tr th {\n",
       "        vertical-align: top;\n",
       "    }\n",
       "\n",
       "    .dataframe thead th {\n",
       "        text-align: right;\n",
       "    }\n",
       "</style>\n",
       "<table border=\"1\" class=\"dataframe\">\n",
       "  <thead>\n",
       "    <tr style=\"text-align: right;\">\n",
       "      <th></th>\n",
       "      <th>target</th>\n",
       "      <th>ids</th>\n",
       "      <th>date</th>\n",
       "      <th>flag</th>\n",
       "      <th>user</th>\n",
       "      <th>text</th>\n",
       "    </tr>\n",
       "  </thead>\n",
       "  <tbody>\n",
       "    <tr>\n",
       "      <td>1585037</td>\n",
       "      <td>4</td>\n",
       "      <td>2190632728</td>\n",
       "      <td>Tue Jun 16 03:17:17 PDT 2009</td>\n",
       "      <td>NO_QUERY</td>\n",
       "      <td>khriczk</td>\n",
       "      <td>Getting some stuff done meeting that girl at r...</td>\n",
       "    </tr>\n",
       "    <tr>\n",
       "      <td>1260060</td>\n",
       "      <td>4</td>\n",
       "      <td>1998248909</td>\n",
       "      <td>Mon Jun 01 18:14:20 PDT 2009</td>\n",
       "      <td>NO_QUERY</td>\n",
       "      <td>nikoflyagain13</td>\n",
       "      <td>http://twitpic.com/6fs0p - me eating cupcake</td>\n",
       "    </tr>\n",
       "    <tr>\n",
       "      <td>667830</td>\n",
       "      <td>0</td>\n",
       "      <td>2245736415</td>\n",
       "      <td>Fri Jun 19 16:33:54 PDT 2009</td>\n",
       "      <td>NO_QUERY</td>\n",
       "      <td>shandi_archie</td>\n",
       "      <td>@nickilambert Ahh. I'm sorry!  that's really s...</td>\n",
       "    </tr>\n",
       "    <tr>\n",
       "      <td>1407991</td>\n",
       "      <td>4</td>\n",
       "      <td>2055620209</td>\n",
       "      <td>Sat Jun 06 09:39:01 PDT 2009</td>\n",
       "      <td>NO_QUERY</td>\n",
       "      <td>ErickaKristen</td>\n",
       "      <td>Awww I love the beach! U all want a picture......</td>\n",
       "    </tr>\n",
       "    <tr>\n",
       "      <td>365905</td>\n",
       "      <td>0</td>\n",
       "      <td>2048671834</td>\n",
       "      <td>Fri Jun 05 15:34:58 PDT 2009</td>\n",
       "      <td>NO_QUERY</td>\n",
       "      <td>m_pattix0</td>\n",
       "      <td>Is not feeling loved</td>\n",
       "    </tr>\n",
       "  </tbody>\n",
       "</table>\n",
       "</div>"
      ],
      "text/plain": [
       "         target         ids                          date      flag  \\\n",
       "1585037       4  2190632728  Tue Jun 16 03:17:17 PDT 2009  NO_QUERY   \n",
       "1260060       4  1998248909  Mon Jun 01 18:14:20 PDT 2009  NO_QUERY   \n",
       "667830        0  2245736415  Fri Jun 19 16:33:54 PDT 2009  NO_QUERY   \n",
       "1407991       4  2055620209  Sat Jun 06 09:39:01 PDT 2009  NO_QUERY   \n",
       "365905        0  2048671834  Fri Jun 05 15:34:58 PDT 2009  NO_QUERY   \n",
       "\n",
       "                   user                                               text  \n",
       "1585037         khriczk  Getting some stuff done meeting that girl at r...  \n",
       "1260060  nikoflyagain13      http://twitpic.com/6fs0p - me eating cupcake   \n",
       "667830    shandi_archie  @nickilambert Ahh. I'm sorry!  that's really s...  \n",
       "1407991   ErickaKristen  Awww I love the beach! U all want a picture......  \n",
       "365905        m_pattix0                              Is not feeling loved   "
      ]
     },
     "execution_count": 7,
     "metadata": {},
     "output_type": "execute_result"
    }
   ],
   "source": [
    "# Training data - Downloaded from here https://www.kaggle.com/kazanova/sentiment140/data#\n",
    "trainTweets_placeholder = [1,2,3,4,5,6]\n",
    "\n",
    "trainTweets = pd.read_csv( 'trainingData/trainingDataTwitter.csv', encoding ='latin-1', header=trainTweets_placeholder)\n",
    "\n",
    "# Dataset is 1.6 million tweets which fails on my computer 32GB of ram\n",
    "\n",
    "# The dataset is sorted by positive and negative tweets. grab pos and neg tweets\n",
    "# trainTweetsNeg = trainTweets.head(100000)\n",
    "# trainTweetsPos = trainTweets.tail(100000)\n",
    "\n",
    "# Merge the dataframes back together\n",
    "# trainTweets = trainTweetsNeg.append(trainTweetsPos)\n",
    "\n",
    "# Randomly samples a percentage of the tweets (1 is 100 percent)\n",
    "trainTweets = trainTweets.sample(frac=.3)\n",
    "\n",
    "# Assign Column headers\n",
    "trainTweets.columns = ['target', 'ids', 'date', 'flag', 'user', 'text']\n",
    "print(\"Tweet Table Shape\", trainTweets.shape)\n",
    "trainTweets.head()"
   ]
  },
  {
   "cell_type": "markdown",
   "metadata": {},
   "source": [
    "#### Reassign values in the target column to text values for prediction"
   ]
  },
  {
   "cell_type": "code",
   "execution_count": 8,
   "metadata": {},
   "outputs": [],
   "source": [
    "# Give numbers labels for interpretation\n",
    "trainTweets['target'] = trainTweets['target'].map({0: \"negative\", 4: \"positive\"})"
   ]
  },
  {
   "cell_type": "markdown",
   "metadata": {},
   "source": [
    "#### Isolate the sentiments from the training datasets and plot the pos/neg numbers to make sure they are balanced"
   ]
  },
  {
   "cell_type": "code",
   "execution_count": 9,
   "metadata": {
    "scrolled": true
   },
   "outputs": [
    {
     "name": "stdout",
     "output_type": "stream",
     "text": [
      "(479998,) y-length\n"
     ]
    },
    {
     "data": {
      "text/plain": [
       "<matplotlib.axes._subplots.AxesSubplot at 0x23a4b603b08>"
      ]
     },
     "execution_count": 9,
     "metadata": {},
     "output_type": "execute_result"
    },
    {
     "data": {
      "image/png": "[encoded data removed]",
      "text/plain": [
       "<Figure size 432x288 with 1 Axes>"
      ]
     },
     "metadata": {
      "needs_background": "light"
     },
     "output_type": "display_data"
    }
   ],
   "source": [
    "# Grab the sentiments for the tweets and assign it to a new variable\n",
    "y = trainTweets.iloc[:, 0].values\n",
    "print(y.shape, \"y-length\")\n",
    "\n",
    "# Plot the data to understand the distribution/no problems are immediately present\n",
    "sns.countplot(x='target', data=trainTweets)"
   ]
  },
  {
   "cell_type": "markdown",
   "metadata": {},
   "source": [
    "#### Preview the column to make sure the right column was selected"
   ]
  },
  {
   "cell_type": "code",
   "execution_count": 10,
   "metadata": {
    "scrolled": true
   },
   "outputs": [
    {
     "data": {
      "text/plain": [
       "array(['positive', 'positive', 'negative', ..., 'negative', 'positive',\n",
       "       'negative'], dtype=object)"
      ]
     },
     "execution_count": 10,
     "metadata": {},
     "output_type": "execute_result"
    }
   ],
   "source": [
    "y"
   ]
  },
  {
   "cell_type": "markdown",
   "metadata": {},
   "source": [
    "#### Isolate the text values of the training dataset and filter out special characters"
   ]
  },
  {
   "cell_type": "code",
   "execution_count": 11,
   "metadata": {},
   "outputs": [],
   "source": [
    "Train_X = trainTweets['text'].values\n",
    "\n",
    "# Remove special characters fromt the tweets and add them to the list\n",
    "processed_tweets_train = []\n",
    "\n",
    "for tweet in range(0, len(Train_X)):  \n",
    "    # Remove all the special characters\n",
    "    processed_tweet_train = re.sub(r'\\W', ' ', str(Train_X[tweet]))\n",
    "\n",
    "    # remove all single characters\n",
    "    processed_tweet_train = re.sub(r'\\s+[a-zA-Z]\\s+', ' ', processed_tweet_train)\n",
    "\n",
    "    # Remove single characters from the start\n",
    "    processed_tweet_train = re.sub(r'\\^[a-zA-Z]\\s+', ' ', processed_tweet_train) \n",
    "\n",
    "    # Substituting multiple spaces with single space\n",
    "    processed_tweet_train= re.sub(r'\\s+', ' ', processed_tweet_train, flags=re.I)\n",
    "\n",
    "    # Removing prefixed 'b'\n",
    "    processed_tweet_train = re.sub(r'^b\\s+', '', processed_tweet_train)\n",
    "\n",
    "    # Converting to Lowercase\n",
    "    processed_tweet_train = processed_tweet_train.lower()\n",
    "\n",
    "    processed_tweets_train.append(processed_tweet_train)"
   ]
  },
  {
   "cell_type": "markdown",
   "metadata": {},
   "source": [
    "#### Transform the list of tweet descriptions "
   ]
  },
  {
   "cell_type": "code",
   "execution_count": 12,
   "metadata": {},
   "outputs": [],
   "source": [
    "from sklearn.feature_extraction.text import TfidfVectorizer  \n",
    "\n",
    "tfidfconverter = TfidfVectorizer(max_features=2000, min_df=5, max_df=0.7, stop_words=stopwords.words('english'))  \n",
    "X = tfidfconverter.fit_transform(processed_tweets_train).toarray()"
   ]
  },
  {
   "cell_type": "markdown",
   "metadata": {},
   "source": [
    "#### Check the shape to ensure each x/y is the same length"
   ]
  },
  {
   "cell_type": "code",
   "execution_count": 13,
   "metadata": {},
   "outputs": [
    {
     "name": "stdout",
     "output_type": "stream",
     "text": [
      "X-Shape (479998, 2000) \n",
      "Y-Shape (479998,)\n"
     ]
    }
   ],
   "source": [
    "# These need to be the same shape for prediction\n",
    "print(\"X-Shape\", X.shape, \"\\nY-Shape\", y.shape)"
   ]
  },
  {
   "cell_type": "code",
   "execution_count": 14,
   "metadata": {},
   "outputs": [],
   "source": [
    "from sklearn.model_selection import train_test_split  \n",
    "X_train, X_test, y_train, y_test = train_test_split(X, y, test_size=0.2, random_state=0)"
   ]
  },
  {
   "cell_type": "code",
   "execution_count": 15,
   "metadata": {},
   "outputs": [
    {
     "data": {
      "text/plain": [
       "RandomForestClassifier(bootstrap=True, class_weight=None, criterion='gini',\n",
       "                       max_depth=None, max_features='auto', max_leaf_nodes=None,\n",
       "                       min_impurity_decrease=0.0, min_impurity_split=None,\n",
       "                       min_samples_leaf=1, min_samples_split=2,\n",
       "                       min_weight_fraction_leaf=0.0, n_estimators=100,\n",
       "                       n_jobs=None, oob_score=False, random_state=0, verbose=0,\n",
       "                       warm_start=False)"
      ]
     },
     "execution_count": 15,
     "metadata": {},
     "output_type": "execute_result"
    }
   ],
   "source": [
    "from sklearn.ensemble import RandomForestClassifier\n",
    "text_classifier = RandomForestClassifier(n_estimators=100, random_state=0)  \n",
    "text_classifier.fit(X_train, y_train)"
   ]
  },
  {
   "cell_type": "code",
   "execution_count": 16,
   "metadata": {},
   "outputs": [],
   "source": [
    "predictions = text_classifier.predict(X_test)"
   ]
  },
  {
   "cell_type": "code",
   "execution_count": 17,
   "metadata": {},
   "outputs": [
    {
     "name": "stdout",
     "output_type": "stream",
     "text": [
      "[[35210 12671]\n",
      " [11640 36479]]\n",
      "              precision    recall  f1-score   support\n",
      "\n",
      "    negative       0.75      0.74      0.74     47881\n",
      "    positive       0.74      0.76      0.75     48119\n",
      "\n",
      "    accuracy                           0.75     96000\n",
      "   macro avg       0.75      0.75      0.75     96000\n",
      "weighted avg       0.75      0.75      0.75     96000\n",
      "\n",
      "0.7467604166666667\n"
     ]
    }
   ],
   "source": [
    "from sklearn.metrics import classification_report, confusion_matrix, accuracy_score\n",
    "\n",
    "print(confusion_matrix(y_test,predictions))  \n",
    "print(classification_report(y_test,predictions))  \n",
    "print(accuracy_score(y_test, predictions))"
   ]
  },
  {
   "cell_type": "code",
   "execution_count": 18,
   "metadata": {},
   "outputs": [],
   "source": [
    "tfidfconverter = TfidfVectorizer(max_features=2000, min_df=5, max_df=0.7, stop_words=stopwords.words('english'))  \n",
    "X_predict = tfidfconverter.fit_transform(processed_tweets).toarray()"
   ]
  },
  {
   "cell_type": "code",
   "execution_count": 30,
   "metadata": {},
   "outputs": [
    {
     "data": {
      "text/plain": [
       "array(['negative', 'positive', 'positive', ..., 'negative', 'negative',\n",
       "       'positive'], dtype=object)"
      ]
     },
     "execution_count": 30,
     "metadata": {},
     "output_type": "execute_result"
    }
   ],
   "source": [
    "predictions = text_classifier.predict(X_predict)\n",
    "predictions"
   ]
  },
  {
   "cell_type": "code",
   "execution_count": 31,
   "metadata": {},
   "outputs": [
    {
     "data": {
      "text/html": [
       "<div>\n",
       "<style scoped>\n",
       "    .dataframe tbody tr th:only-of-type {\n",
       "        vertical-align: middle;\n",
       "    }\n",
       "\n",
       "    .dataframe tbody tr th {\n",
       "        vertical-align: top;\n",
       "    }\n",
       "\n",
       "    .dataframe thead th {\n",
       "        text-align: right;\n",
       "    }\n",
       "</style>\n",
       "<table border=\"1\" class=\"dataframe\">\n",
       "  <thead>\n",
       "    <tr style=\"text-align: right;\">\n",
       "      <th></th>\n",
       "      <th>sentiment</th>\n",
       "    </tr>\n",
       "  </thead>\n",
       "  <tbody>\n",
       "    <tr>\n",
       "      <td>0</td>\n",
       "      <td>negative</td>\n",
       "    </tr>\n",
       "    <tr>\n",
       "      <td>1</td>\n",
       "      <td>positive</td>\n",
       "    </tr>\n",
       "    <tr>\n",
       "      <td>2</td>\n",
       "      <td>positive</td>\n",
       "    </tr>\n",
       "    <tr>\n",
       "      <td>3</td>\n",
       "      <td>positive</td>\n",
       "    </tr>\n",
       "    <tr>\n",
       "      <td>4</td>\n",
       "      <td>positive</td>\n",
       "    </tr>\n",
       "  </tbody>\n",
       "</table>\n",
       "</div>"
      ],
      "text/plain": [
       "  sentiment\n",
       "0  negative\n",
       "1  positive\n",
       "2  positive\n",
       "3  positive\n",
       "4  positive"
      ]
     },
     "execution_count": 31,
     "metadata": {},
     "output_type": "execute_result"
    }
   ],
   "source": [
    "# Change to a dataframe\n",
    "pred_df = pd.DataFrame(data=predictions)\n",
    "pred_df.columns = ['sentiment']\n",
    "pred_df.head()"
   ]
  },
  {
   "cell_type": "code",
   "execution_count": 32,
   "metadata": {},
   "outputs": [
    {
     "data": {
      "text/plain": [
       "(333659, 1)"
      ]
     },
     "execution_count": 32,
     "metadata": {},
     "output_type": "execute_result"
    }
   ],
   "source": [
    "pred_df.shape"
   ]
  },
  {
   "cell_type": "code",
   "execution_count": 33,
   "metadata": {},
   "outputs": [
    {
     "data": {
      "text/plain": [
       "(333659, 24)"
      ]
     },
     "execution_count": 33,
     "metadata": {},
     "output_type": "execute_result"
    }
   ],
   "source": [
    "tdf.shape"
   ]
  },
  {
   "cell_type": "code",
   "execution_count": 34,
   "metadata": {},
   "outputs": [
    {
     "data": {
      "text/html": [
       "<div>\n",
       "<style scoped>\n",
       "    .dataframe tbody tr th:only-of-type {\n",
       "        vertical-align: middle;\n",
       "    }\n",
       "\n",
       "    .dataframe tbody tr th {\n",
       "        vertical-align: top;\n",
       "    }\n",
       "\n",
       "    .dataframe thead th {\n",
       "        text-align: right;\n",
       "    }\n",
       "</style>\n",
       "<table border=\"1\" class=\"dataframe\">\n",
       "  <thead>\n",
       "    <tr style=\"text-align: right;\">\n",
       "      <th></th>\n",
       "      <th>tid</th>\n",
       "      <th>date</th>\n",
       "      <th>timezone</th>\n",
       "      <th>name</th>\n",
       "      <th>userdesc</th>\n",
       "      <th>retweet</th>\n",
       "      <th>full_text</th>\n",
       "      <th>hashtag</th>\n",
       "      <th>coordinate</th>\n",
       "      <th>geo</th>\n",
       "      <th>...</th>\n",
       "      <th>reply_count</th>\n",
       "      <th>retweet_count</th>\n",
       "      <th>status_count</th>\n",
       "      <th>screen_name</th>\n",
       "      <th>friends_count</th>\n",
       "      <th>lang</th>\n",
       "      <th>filterlevel</th>\n",
       "      <th>source</th>\n",
       "      <th>sensitive</th>\n",
       "      <th>sentiment</th>\n",
       "    </tr>\n",
       "  </thead>\n",
       "  <tbody>\n",
       "    <tr>\n",
       "      <td>0</td>\n",
       "      <td>1248315976925491200</td>\n",
       "      <td>Thu Apr 09 18:24:56 +0000 2020</td>\n",
       "      <td>None</td>\n",
       "      <td>Kim Wood</td>\n",
       "      <td>Wife, Mummy &amp; Nurse on a break to raise my 3 g...</td>\n",
       "      <td>True</td>\n",
       "      <td>[ @WYHpartnership: Good morning and thank you ...</td>\n",
       "      <td>[]</td>\n",
       "      <td>None</td>\n",
       "      <td>None</td>\n",
       "      <td>...</td>\n",
       "      <td>0</td>\n",
       "      <td>0</td>\n",
       "      <td>24333</td>\n",
       "      <td>{Woodster44}</td>\n",
       "      <td>1504</td>\n",
       "      <td>en</td>\n",
       "      <td>low</td>\n",
       "      <td>Twitter for iPhone</td>\n",
       "      <td>None</td>\n",
       "      <td>negative</td>\n",
       "    </tr>\n",
       "    <tr>\n",
       "      <td>1</td>\n",
       "      <td>1248315978007687168</td>\n",
       "      <td>Thu Apr 09 18:24:56 +0000 2020</td>\n",
       "      <td>None</td>\n",
       "      <td>❕</td>\n",
       "      <td>hell bound but heaven sent</td>\n",
       "      <td>True</td>\n",
       "      <td>[ @SimonPeach: #MUFC have announced a package ...</td>\n",
       "      <td>[MUFC ]</td>\n",
       "      <td>None</td>\n",
       "      <td>None</td>\n",
       "      <td>...</td>\n",
       "      <td>0</td>\n",
       "      <td>0</td>\n",
       "      <td>9478</td>\n",
       "      <td>{Jordun_}</td>\n",
       "      <td>131</td>\n",
       "      <td>en</td>\n",
       "      <td>low</td>\n",
       "      <td>Twitter for iPhone</td>\n",
       "      <td>false</td>\n",
       "      <td>positive</td>\n",
       "    </tr>\n",
       "    <tr>\n",
       "      <td>2</td>\n",
       "      <td>1248315978167005185</td>\n",
       "      <td>Thu Apr 09 18:24:56 +0000 2020</td>\n",
       "      <td>None</td>\n",
       "      <td>steve brown</td>\n",
       "      <td>None</td>\n",
       "      <td>False</td>\n",
       "      <td>[Another tragic death. My condolences to the f...</td>\n",
       "      <td>[]</td>\n",
       "      <td>None</td>\n",
       "      <td>None</td>\n",
       "      <td>...</td>\n",
       "      <td>0</td>\n",
       "      <td>0</td>\n",
       "      <td>5551</td>\n",
       "      <td>{stevebr98325879}</td>\n",
       "      <td>332</td>\n",
       "      <td>en</td>\n",
       "      <td>low</td>\n",
       "      <td>Twitter Web App</td>\n",
       "      <td>None</td>\n",
       "      <td>positive</td>\n",
       "    </tr>\n",
       "    <tr>\n",
       "      <td>3</td>\n",
       "      <td>1248315978896867330</td>\n",
       "      <td>Thu Apr 09 18:24:56 +0000 2020</td>\n",
       "      <td>None</td>\n",
       "      <td>Anas Saadallah - أنس ✊✊✊</td>\n",
       "      <td>Belgo-Tunisien - Wikipédien - #新浪微博: http://t....</td>\n",
       "      <td>False</td>\n",
       "      <td>[Coronavirus (COVID-19) - NHS - NHS https://t....</td>\n",
       "      <td>[]</td>\n",
       "      <td>None</td>\n",
       "      <td>None</td>\n",
       "      <td>...</td>\n",
       "      <td>0</td>\n",
       "      <td>0</td>\n",
       "      <td>102238</td>\n",
       "      <td>{anassaadallah}</td>\n",
       "      <td>3744</td>\n",
       "      <td>en</td>\n",
       "      <td>low</td>\n",
       "      <td>iOS</td>\n",
       "      <td>false</td>\n",
       "      <td>positive</td>\n",
       "    </tr>\n",
       "    <tr>\n",
       "      <td>4</td>\n",
       "      <td>1248315979555356673</td>\n",
       "      <td>Thu Apr 09 18:24:56 +0000 2020</td>\n",
       "      <td>None</td>\n",
       "      <td>Andrew McCullough</td>\n",
       "      <td>All my views are my own. Retweets are not endo...</td>\n",
       "      <td>True</td>\n",
       "      <td>[ @DrMamnunKhan: Please NHS workers sign up fo...</td>\n",
       "      <td>[]</td>\n",
       "      <td>None</td>\n",
       "      <td>None</td>\n",
       "      <td>...</td>\n",
       "      <td>0</td>\n",
       "      <td>0</td>\n",
       "      <td>32420</td>\n",
       "      <td>{AndrewMuckaluck}</td>\n",
       "      <td>2062</td>\n",
       "      <td>en</td>\n",
       "      <td>low</td>\n",
       "      <td>Twitter for iPhone</td>\n",
       "      <td>None</td>\n",
       "      <td>positive</td>\n",
       "    </tr>\n",
       "    <tr>\n",
       "      <td>...</td>\n",
       "      <td>...</td>\n",
       "      <td>...</td>\n",
       "      <td>...</td>\n",
       "      <td>...</td>\n",
       "      <td>...</td>\n",
       "      <td>...</td>\n",
       "      <td>...</td>\n",
       "      <td>...</td>\n",
       "      <td>...</td>\n",
       "      <td>...</td>\n",
       "      <td>...</td>\n",
       "      <td>...</td>\n",
       "      <td>...</td>\n",
       "      <td>...</td>\n",
       "      <td>...</td>\n",
       "      <td>...</td>\n",
       "      <td>...</td>\n",
       "      <td>...</td>\n",
       "      <td>...</td>\n",
       "      <td>...</td>\n",
       "      <td>...</td>\n",
       "    </tr>\n",
       "    <tr>\n",
       "      <td>333654</td>\n",
       "      <td>1248602645167845376</td>\n",
       "      <td>Fri Apr 10 13:24:03 +0000 2020</td>\n",
       "      <td>None</td>\n",
       "      <td>Terence Bermingham</td>\n",
       "      <td>Sports fan who is a member @surreycricket &amp; a ...</td>\n",
       "      <td>True</td>\n",
       "      <td>[ @carolecadwalla: GIVE. THEM. PROTECTIVE. EQU...</td>\n",
       "      <td>[]</td>\n",
       "      <td>None</td>\n",
       "      <td>None</td>\n",
       "      <td>...</td>\n",
       "      <td>0</td>\n",
       "      <td>0</td>\n",
       "      <td>2076</td>\n",
       "      <td>{tpbermingham}</td>\n",
       "      <td>63</td>\n",
       "      <td>en</td>\n",
       "      <td>low</td>\n",
       "      <td>Twitter for iPhone</td>\n",
       "      <td>None</td>\n",
       "      <td>positive</td>\n",
       "    </tr>\n",
       "    <tr>\n",
       "      <td>333655</td>\n",
       "      <td>1248602645662535681</td>\n",
       "      <td>Fri Apr 10 13:24:03 +0000 2020</td>\n",
       "      <td>None</td>\n",
       "      <td>RemainVoter #FBPE</td>\n",
       "      <td>Not accepting defeat graciously. The Rejoin EU...</td>\n",
       "      <td>True</td>\n",
       "      <td>[ @ChantelleSeddon: I am grateful for NHS staf...</td>\n",
       "      <td>[]</td>\n",
       "      <td>None</td>\n",
       "      <td>None</td>\n",
       "      <td>...</td>\n",
       "      <td>0</td>\n",
       "      <td>0</td>\n",
       "      <td>482</td>\n",
       "      <td>{VoterRemain}</td>\n",
       "      <td>799</td>\n",
       "      <td>en</td>\n",
       "      <td>low</td>\n",
       "      <td>Twitter for iPhone</td>\n",
       "      <td>None</td>\n",
       "      <td>positive</td>\n",
       "    </tr>\n",
       "    <tr>\n",
       "      <td>333656</td>\n",
       "      <td>1248602646170275841</td>\n",
       "      <td>Fri Apr 10 13:24:03 +0000 2020</td>\n",
       "      <td>None</td>\n",
       "      <td>Lois Garnett</td>\n",
       "      <td>twenty-two|manchester</td>\n",
       "      <td>True</td>\n",
       "      <td>[ @liamgallagher: It's an honour to announce t...</td>\n",
       "      <td>[]</td>\n",
       "      <td>None</td>\n",
       "      <td>None</td>\n",
       "      <td>...</td>\n",
       "      <td>0</td>\n",
       "      <td>0</td>\n",
       "      <td>18900</td>\n",
       "      <td>{loisgarnett_}</td>\n",
       "      <td>1100</td>\n",
       "      <td>en</td>\n",
       "      <td>low</td>\n",
       "      <td>Twitter for iPhone</td>\n",
       "      <td>None</td>\n",
       "      <td>negative</td>\n",
       "    </tr>\n",
       "    <tr>\n",
       "      <td>333657</td>\n",
       "      <td>1248602647424372736</td>\n",
       "      <td>Fri Apr 10 13:24:03 +0000 2020</td>\n",
       "      <td>None</td>\n",
       "      <td>Paul</td>\n",
       "      <td>Celtic + CVFC OK</td>\n",
       "      <td>True</td>\n",
       "      <td>[ @liamgallagher: It's an honour to announce t...</td>\n",
       "      <td>[]</td>\n",
       "      <td>None</td>\n",
       "      <td>None</td>\n",
       "      <td>...</td>\n",
       "      <td>0</td>\n",
       "      <td>0</td>\n",
       "      <td>2831</td>\n",
       "      <td>{Youreds1888}</td>\n",
       "      <td>975</td>\n",
       "      <td>en</td>\n",
       "      <td>low</td>\n",
       "      <td>Twitter for iPhone</td>\n",
       "      <td>None</td>\n",
       "      <td>negative</td>\n",
       "    </tr>\n",
       "    <tr>\n",
       "      <td>333658</td>\n",
       "      <td>1248602647449526273</td>\n",
       "      <td>Fri Apr 10 13:24:03 +0000 2020</td>\n",
       "      <td>None</td>\n",
       "      <td>Salim Kaaba</td>\n",
       "      <td>Working towards a fairer and more equal Britai...</td>\n",
       "      <td>True</td>\n",
       "      <td>[ @BenJolly9: There is one MP who turned down ...</td>\n",
       "      <td>[]</td>\n",
       "      <td>None</td>\n",
       "      <td>None</td>\n",
       "      <td>...</td>\n",
       "      <td>0</td>\n",
       "      <td>0</td>\n",
       "      <td>12713</td>\n",
       "      <td>{salim4li}</td>\n",
       "      <td>197</td>\n",
       "      <td>en</td>\n",
       "      <td>low</td>\n",
       "      <td>Twitter Web App</td>\n",
       "      <td>None</td>\n",
       "      <td>positive</td>\n",
       "    </tr>\n",
       "  </tbody>\n",
       "</table>\n",
       "<p>333659 rows × 24 columns</p>\n",
       "</div>"
      ],
      "text/plain": [
       "                        tid                            date timezone  \\\n",
       "0       1248315976925491200  Thu Apr 09 18:24:56 +0000 2020     None   \n",
       "1       1248315978007687168  Thu Apr 09 18:24:56 +0000 2020     None   \n",
       "2       1248315978167005185  Thu Apr 09 18:24:56 +0000 2020     None   \n",
       "3       1248315978896867330  Thu Apr 09 18:24:56 +0000 2020     None   \n",
       "4       1248315979555356673  Thu Apr 09 18:24:56 +0000 2020     None   \n",
       "...                     ...                             ...      ...   \n",
       "333654  1248602645167845376  Fri Apr 10 13:24:03 +0000 2020     None   \n",
       "333655  1248602645662535681  Fri Apr 10 13:24:03 +0000 2020     None   \n",
       "333656  1248602646170275841  Fri Apr 10 13:24:03 +0000 2020     None   \n",
       "333657  1248602647424372736  Fri Apr 10 13:24:03 +0000 2020     None   \n",
       "333658  1248602647449526273  Fri Apr 10 13:24:03 +0000 2020     None   \n",
       "\n",
       "                            name  \\\n",
       "0                       Kim Wood   \n",
       "1                              ❕   \n",
       "2                    steve brown   \n",
       "3       Anas Saadallah - أنس ✊✊✊   \n",
       "4              Andrew McCullough   \n",
       "...                          ...   \n",
       "333654        Terence Bermingham   \n",
       "333655         RemainVoter #FBPE   \n",
       "333656              Lois Garnett   \n",
       "333657                      Paul   \n",
       "333658               Salim Kaaba   \n",
       "\n",
       "                                                 userdesc  retweet  \\\n",
       "0       Wife, Mummy & Nurse on a break to raise my 3 g...     True   \n",
       "1                              hell bound but heaven sent     True   \n",
       "2                                                    None    False   \n",
       "3       Belgo-Tunisien - Wikipédien - #新浪微博: http://t....    False   \n",
       "4       All my views are my own. Retweets are not endo...     True   \n",
       "...                                                   ...      ...   \n",
       "333654  Sports fan who is a member @surreycricket & a ...     True   \n",
       "333655  Not accepting defeat graciously. The Rejoin EU...     True   \n",
       "333656                              twenty-two|manchester     True   \n",
       "333657                                   Celtic + CVFC OK     True   \n",
       "333658  Working towards a fairer and more equal Britai...     True   \n",
       "\n",
       "                                                full_text  hashtag coordinate  \\\n",
       "0       [ @WYHpartnership: Good morning and thank you ...       []       None   \n",
       "1       [ @SimonPeach: #MUFC have announced a package ...  [MUFC ]       None   \n",
       "2       [Another tragic death. My condolences to the f...       []       None   \n",
       "3       [Coronavirus (COVID-19) - NHS - NHS https://t....       []       None   \n",
       "4       [ @DrMamnunKhan: Please NHS workers sign up fo...       []       None   \n",
       "...                                                   ...      ...        ...   \n",
       "333654  [ @carolecadwalla: GIVE. THEM. PROTECTIVE. EQU...       []       None   \n",
       "333655  [ @ChantelleSeddon: I am grateful for NHS staf...       []       None   \n",
       "333656  [ @liamgallagher: It's an honour to announce t...       []       None   \n",
       "333657  [ @liamgallagher: It's an honour to announce t...       []       None   \n",
       "333658  [ @BenJolly9: There is one MP who turned down ...       []       None   \n",
       "\n",
       "         geo  ... reply_count retweet_count  status_count        screen_name  \\\n",
       "0       None  ...           0             0         24333       {Woodster44}   \n",
       "1       None  ...           0             0          9478          {Jordun_}   \n",
       "2       None  ...           0             0          5551  {stevebr98325879}   \n",
       "3       None  ...           0             0        102238    {anassaadallah}   \n",
       "4       None  ...           0             0         32420  {AndrewMuckaluck}   \n",
       "...      ...  ...         ...           ...           ...                ...   \n",
       "333654  None  ...           0             0          2076     {tpbermingham}   \n",
       "333655  None  ...           0             0           482      {VoterRemain}   \n",
       "333656  None  ...           0             0         18900     {loisgarnett_}   \n",
       "333657  None  ...           0             0          2831      {Youreds1888}   \n",
       "333658  None  ...           0             0         12713         {salim4li}   \n",
       "\n",
       "        friends_count  lang  filterlevel              source  sensitive  \\\n",
       "0                1504    en          low  Twitter for iPhone       None   \n",
       "1                 131    en          low  Twitter for iPhone      false   \n",
       "2                 332    en          low     Twitter Web App       None   \n",
       "3                3744    en          low                 iOS      false   \n",
       "4                2062    en          low  Twitter for iPhone       None   \n",
       "...               ...   ...          ...                 ...        ...   \n",
       "333654             63    en          low  Twitter for iPhone       None   \n",
       "333655            799    en          low  Twitter for iPhone       None   \n",
       "333656           1100    en          low  Twitter for iPhone       None   \n",
       "333657            975    en          low  Twitter for iPhone       None   \n",
       "333658            197    en          low     Twitter Web App       None   \n",
       "\n",
       "       sentiment  \n",
       "0       negative  \n",
       "1       positive  \n",
       "2       positive  \n",
       "3       positive  \n",
       "4       positive  \n",
       "...          ...  \n",
       "333654  positive  \n",
       "333655  positive  \n",
       "333656  negative  \n",
       "333657  negative  \n",
       "333658  positive  \n",
       "\n",
       "[333659 rows x 24 columns]"
      ]
     },
     "execution_count": 34,
     "metadata": {},
     "output_type": "execute_result"
    }
   ],
   "source": [
    "tdf['sentiment'] = pred_df\n",
    "tdf"
   ]
  },
  {
   "cell_type": "code",
   "execution_count": null,
   "metadata": {},
   "outputs": [],
   "source": []
  }
 ],
 "metadata": {
  "kernelspec": {
   "display_name": "Python 3",
   "language": "python",
   "name": "python3"
  },
  "language_info": {
   "codemirror_mode": {
    "name": "ipython",
    "version": 3
   },
   "file_extension": ".py",
   "mimetype": "text/x-python",
   "name": "python",
   "nbconvert_exporter": "python",
   "pygments_lexer": "ipython3",
   "version": "3.7.4"
  }
 },
 "nbformat": 4,
 "nbformat_minor": 2
}
